{
 "cells": [
  {
   "cell_type": "markdown",
   "metadata": {},
   "source": [
    "# 乳癌資料庫預測SVM分類\n",
    ">使用scikit-learn 機器學習套件裡的SVR演算法\n",
    "\n",
    "* (一)引入函式庫及內建乳癌資料集<br>\n",
    "引入之函式庫如下<br>\n",
    "sklearn.datasets: 用來匯入內建之乳癌資料集`datasets.load_breast_cancer()`<br>\n",
    "sklearn.SVR: 支持向量機回歸分析之演算法<br>\n",
    "matplotlib.pyplot: 用來繪製影像"
   ]
  },
  {
   "cell_type": "code",
   "execution_count": 1,
   "metadata": {},
   "outputs": [],
   "source": [
    "from sklearn import svm\n",
    "from sklearn import datasets\n",
    "from sklearn.model_selection import train_test_split\n",
    "from sklearn.metrics import accuracy_score\n",
    "import matplotlib.pyplot as plt\n",
    "import pandas as pd\n",
    "import numpy as np"
   ]
  },
  {
   "cell_type": "markdown",
   "metadata": {},
   "source": [
    "## Step1. 下載資料"
   ]
  },
  {
   "cell_type": "code",
   "execution_count": 2,
   "metadata": {},
   "outputs": [
    {
     "name": "stdout",
     "output_type": "stream",
     "text": [
      "[[1.799e+01 1.038e+01 1.228e+02 ... 2.654e-01 4.601e-01 1.189e-01]\n",
      " [2.057e+01 1.777e+01 1.329e+02 ... 1.860e-01 2.750e-01 8.902e-02]\n",
      " [1.969e+01 2.125e+01 1.300e+02 ... 2.430e-01 3.613e-01 8.758e-02]\n",
      " ...\n",
      " [1.660e+01 2.808e+01 1.083e+02 ... 1.418e-01 2.218e-01 7.820e-02]\n",
      " [2.060e+01 2.933e+01 1.401e+02 ... 2.650e-01 4.087e-01 1.240e-01]\n",
      " [7.760e+00 2.454e+01 4.792e+01 ... 0.000e+00 2.871e-01 7.039e-02]]\n",
      "[0 0 0 0 0 0 0 0 0 0 0 0 0 0 0 0 0 0 0 1 1 1 0 0 0 0 0 0 0 0 0 0 0 0 0 0 0\n",
      " 1 0 0 0 0 0 0 0 0 1 0 1 1 1 1 1 0 0 1 0 0 1 1 1 1 0 1 0 0 1 1 1 1 0 1 0 0\n",
      " 1 0 1 0 0 1 1 1 0 0 1 0 0 0 1 1 1 0 1 1 0 0 1 1 1 0 0 1 1 1 1 0 1 1 0 1 1\n",
      " 1 1 1 1 1 1 0 0 0 1 0 0 1 1 1 0 0 1 0 1 0 0 1 0 0 1 1 0 1 1 0 1 1 1 1 0 1\n",
      " 1 1 1 1 1 1 1 1 0 1 1 1 1 0 0 1 0 1 1 0 0 1 1 0 0 1 1 1 1 0 1 1 0 0 0 1 0\n",
      " 1 0 1 1 1 0 1 1 0 0 1 0 0 0 0 1 0 0 0 1 0 1 0 1 1 0 1 0 0 0 0 1 1 0 0 1 1\n",
      " 1 0 1 1 1 1 1 0 0 1 1 0 1 1 0 0 1 0 1 1 1 1 0 1 1 1 1 1 0 1 0 0 0 0 0 0 0\n",
      " 0 0 0 0 0 0 0 1 1 1 1 1 1 0 1 0 1 1 0 1 1 0 1 0 0 1 1 1 1 1 1 1 1 1 1 1 1\n",
      " 1 0 1 1 0 1 0 1 1 1 1 1 1 1 1 1 1 1 1 1 1 0 1 1 1 0 1 0 1 1 1 1 0 0 0 1 1\n",
      " 1 1 0 1 0 1 0 1 1 1 0 1 1 1 1 1 1 1 0 0 0 1 1 1 1 1 1 1 1 1 1 1 0 0 1 0 0\n",
      " 0 1 0 0 1 1 1 1 1 0 1 1 1 1 1 0 1 1 1 0 1 1 0 0 1 1 1 1 1 1 0 1 1 1 1 1 1\n",
      " 1 0 1 1 1 1 1 0 1 1 0 1 1 1 1 1 1 1 1 1 1 1 1 0 1 0 0 1 0 1 1 1 1 1 0 1 1\n",
      " 0 1 0 1 1 0 1 0 1 1 1 1 1 1 1 1 0 0 1 1 1 1 1 1 0 1 1 1 1 1 1 1 1 1 1 0 1\n",
      " 1 1 1 1 1 1 0 1 0 1 1 0 1 1 1 1 1 0 0 1 0 1 0 1 1 1 1 1 0 1 1 0 1 0 1 0 0\n",
      " 1 1 1 0 1 1 1 1 1 1 1 1 1 1 1 0 1 0 0 1 1 1 1 1 1 1 1 1 1 1 1 1 1 1 1 1 1\n",
      " 1 1 1 1 1 1 1 0 0 0 0 0 0 1]\n"
     ]
    },
    {
     "data": {
      "text/html": [
       "<div>\n",
       "<style scoped>\n",
       "    .dataframe tbody tr th:only-of-type {\n",
       "        vertical-align: middle;\n",
       "    }\n",
       "\n",
       "    .dataframe tbody tr th {\n",
       "        vertical-align: top;\n",
       "    }\n",
       "\n",
       "    .dataframe thead th {\n",
       "        text-align: right;\n",
       "    }\n",
       "</style>\n",
       "<table border=\"1\" class=\"dataframe\">\n",
       "  <thead>\n",
       "    <tr style=\"text-align: right;\">\n",
       "      <th></th>\n",
       "      <th>mean radius</th>\n",
       "      <th>mean texture</th>\n",
       "      <th>mean perimeter</th>\n",
       "      <th>mean area</th>\n",
       "      <th>mean smoothness</th>\n",
       "      <th>mean compactness</th>\n",
       "      <th>mean concavity</th>\n",
       "      <th>mean concave points</th>\n",
       "      <th>mean symmetry</th>\n",
       "      <th>mean fractal dimension</th>\n",
       "      <th>...</th>\n",
       "      <th>worst texture</th>\n",
       "      <th>worst perimeter</th>\n",
       "      <th>worst area</th>\n",
       "      <th>worst smoothness</th>\n",
       "      <th>worst compactness</th>\n",
       "      <th>worst concavity</th>\n",
       "      <th>worst concave points</th>\n",
       "      <th>worst symmetry</th>\n",
       "      <th>worst fractal dimension</th>\n",
       "      <th>target</th>\n",
       "    </tr>\n",
       "  </thead>\n",
       "  <tbody>\n",
       "    <tr>\n",
       "      <th>0</th>\n",
       "      <td>17.99</td>\n",
       "      <td>10.38</td>\n",
       "      <td>122.80</td>\n",
       "      <td>1001.0</td>\n",
       "      <td>0.11840</td>\n",
       "      <td>0.27760</td>\n",
       "      <td>0.3001</td>\n",
       "      <td>0.14710</td>\n",
       "      <td>0.2419</td>\n",
       "      <td>0.07871</td>\n",
       "      <td>...</td>\n",
       "      <td>17.33</td>\n",
       "      <td>184.60</td>\n",
       "      <td>2019.0</td>\n",
       "      <td>0.1622</td>\n",
       "      <td>0.6656</td>\n",
       "      <td>0.7119</td>\n",
       "      <td>0.2654</td>\n",
       "      <td>0.4601</td>\n",
       "      <td>0.11890</td>\n",
       "      <td>0</td>\n",
       "    </tr>\n",
       "    <tr>\n",
       "      <th>1</th>\n",
       "      <td>20.57</td>\n",
       "      <td>17.77</td>\n",
       "      <td>132.90</td>\n",
       "      <td>1326.0</td>\n",
       "      <td>0.08474</td>\n",
       "      <td>0.07864</td>\n",
       "      <td>0.0869</td>\n",
       "      <td>0.07017</td>\n",
       "      <td>0.1812</td>\n",
       "      <td>0.05667</td>\n",
       "      <td>...</td>\n",
       "      <td>23.41</td>\n",
       "      <td>158.80</td>\n",
       "      <td>1956.0</td>\n",
       "      <td>0.1238</td>\n",
       "      <td>0.1866</td>\n",
       "      <td>0.2416</td>\n",
       "      <td>0.1860</td>\n",
       "      <td>0.2750</td>\n",
       "      <td>0.08902</td>\n",
       "      <td>0</td>\n",
       "    </tr>\n",
       "    <tr>\n",
       "      <th>2</th>\n",
       "      <td>19.69</td>\n",
       "      <td>21.25</td>\n",
       "      <td>130.00</td>\n",
       "      <td>1203.0</td>\n",
       "      <td>0.10960</td>\n",
       "      <td>0.15990</td>\n",
       "      <td>0.1974</td>\n",
       "      <td>0.12790</td>\n",
       "      <td>0.2069</td>\n",
       "      <td>0.05999</td>\n",
       "      <td>...</td>\n",
       "      <td>25.53</td>\n",
       "      <td>152.50</td>\n",
       "      <td>1709.0</td>\n",
       "      <td>0.1444</td>\n",
       "      <td>0.4245</td>\n",
       "      <td>0.4504</td>\n",
       "      <td>0.2430</td>\n",
       "      <td>0.3613</td>\n",
       "      <td>0.08758</td>\n",
       "      <td>0</td>\n",
       "    </tr>\n",
       "    <tr>\n",
       "      <th>3</th>\n",
       "      <td>11.42</td>\n",
       "      <td>20.38</td>\n",
       "      <td>77.58</td>\n",
       "      <td>386.1</td>\n",
       "      <td>0.14250</td>\n",
       "      <td>0.28390</td>\n",
       "      <td>0.2414</td>\n",
       "      <td>0.10520</td>\n",
       "      <td>0.2597</td>\n",
       "      <td>0.09744</td>\n",
       "      <td>...</td>\n",
       "      <td>26.50</td>\n",
       "      <td>98.87</td>\n",
       "      <td>567.7</td>\n",
       "      <td>0.2098</td>\n",
       "      <td>0.8663</td>\n",
       "      <td>0.6869</td>\n",
       "      <td>0.2575</td>\n",
       "      <td>0.6638</td>\n",
       "      <td>0.17300</td>\n",
       "      <td>0</td>\n",
       "    </tr>\n",
       "    <tr>\n",
       "      <th>4</th>\n",
       "      <td>20.29</td>\n",
       "      <td>14.34</td>\n",
       "      <td>135.10</td>\n",
       "      <td>1297.0</td>\n",
       "      <td>0.10030</td>\n",
       "      <td>0.13280</td>\n",
       "      <td>0.1980</td>\n",
       "      <td>0.10430</td>\n",
       "      <td>0.1809</td>\n",
       "      <td>0.05883</td>\n",
       "      <td>...</td>\n",
       "      <td>16.67</td>\n",
       "      <td>152.20</td>\n",
       "      <td>1575.0</td>\n",
       "      <td>0.1374</td>\n",
       "      <td>0.2050</td>\n",
       "      <td>0.4000</td>\n",
       "      <td>0.1625</td>\n",
       "      <td>0.2364</td>\n",
       "      <td>0.07678</td>\n",
       "      <td>0</td>\n",
       "    </tr>\n",
       "  </tbody>\n",
       "</table>\n",
       "<p>5 rows × 31 columns</p>\n",
       "</div>"
      ],
      "text/plain": [
       "   mean radius  mean texture  mean perimeter  mean area  mean smoothness  \\\n",
       "0        17.99         10.38          122.80     1001.0          0.11840   \n",
       "1        20.57         17.77          132.90     1326.0          0.08474   \n",
       "2        19.69         21.25          130.00     1203.0          0.10960   \n",
       "3        11.42         20.38           77.58      386.1          0.14250   \n",
       "4        20.29         14.34          135.10     1297.0          0.10030   \n",
       "\n",
       "   mean compactness  mean concavity  mean concave points  mean symmetry  \\\n",
       "0           0.27760          0.3001              0.14710         0.2419   \n",
       "1           0.07864          0.0869              0.07017         0.1812   \n",
       "2           0.15990          0.1974              0.12790         0.2069   \n",
       "3           0.28390          0.2414              0.10520         0.2597   \n",
       "4           0.13280          0.1980              0.10430         0.1809   \n",
       "\n",
       "   mean fractal dimension  ...  worst texture  worst perimeter  worst area  \\\n",
       "0                 0.07871  ...          17.33           184.60      2019.0   \n",
       "1                 0.05667  ...          23.41           158.80      1956.0   \n",
       "2                 0.05999  ...          25.53           152.50      1709.0   \n",
       "3                 0.09744  ...          26.50            98.87       567.7   \n",
       "4                 0.05883  ...          16.67           152.20      1575.0   \n",
       "\n",
       "   worst smoothness  worst compactness  worst concavity  worst concave points  \\\n",
       "0            0.1622             0.6656           0.7119                0.2654   \n",
       "1            0.1238             0.1866           0.2416                0.1860   \n",
       "2            0.1444             0.4245           0.4504                0.2430   \n",
       "3            0.2098             0.8663           0.6869                0.2575   \n",
       "4            0.1374             0.2050           0.4000                0.1625   \n",
       "\n",
       "   worst symmetry  worst fractal dimension  target  \n",
       "0          0.4601                  0.11890       0  \n",
       "1          0.2750                  0.08902       0  \n",
       "2          0.3613                  0.08758       0  \n",
       "3          0.6638                  0.17300       0  \n",
       "4          0.2364                  0.07678       0  \n",
       "\n",
       "[5 rows x 31 columns]"
      ]
     },
     "execution_count": 2,
     "metadata": {},
     "output_type": "execute_result"
    }
   ],
   "source": [
    "breast_cancer=datasets.load_breast_cancer()\n",
    "features = breast_cancer.data\n",
    "target = breast_cancer.target\n",
    "print(features)\n",
    "print(target)\n",
    "breast_cancer_df = pd.DataFrame(breast_cancer.data, columns=breast_cancer.feature_names)\n",
    "breast_cancer_df['target'] = breast_cancer.target\n",
    "breast_cancer_df.head(5)"
   ]
  },
  {
   "cell_type": "code",
   "execution_count": 3,
   "metadata": {},
   "outputs": [
    {
     "data": {
      "text/plain": [
       "array(['mean radius', 'mean texture', 'mean perimeter', 'mean area',\n",
       "       'mean smoothness', 'mean compactness', 'mean concavity',\n",
       "       'mean concave points', 'mean symmetry', 'mean fractal dimension',\n",
       "       'radius error', 'texture error', 'perimeter error', 'area error',\n",
       "       'smoothness error', 'compactness error', 'concavity error',\n",
       "       'concave points error', 'symmetry error',\n",
       "       'fractal dimension error', 'worst radius', 'worst texture',\n",
       "       'worst perimeter', 'worst area', 'worst smoothness',\n",
       "       'worst compactness', 'worst concavity', 'worst concave points',\n",
       "       'worst symmetry', 'worst fractal dimension'], dtype='<U23')"
      ]
     },
     "execution_count": 3,
     "metadata": {},
     "output_type": "execute_result"
    }
   ],
   "source": [
    "breast_cancer.feature_names"
   ]
  },
  {
   "cell_type": "code",
   "execution_count": 4,
   "metadata": {},
   "outputs": [
    {
     "data": {
      "text/plain": [
       "array(['malignant', 'malignant', 'malignant', 'malignant', 'malignant',\n",
       "       'malignant', 'malignant', 'malignant', 'malignant', 'malignant',\n",
       "       'malignant', 'malignant', 'malignant', 'malignant', 'malignant',\n",
       "       'malignant', 'malignant', 'malignant', 'malignant', 'benign',\n",
       "       'benign', 'benign', 'malignant', 'malignant', 'malignant',\n",
       "       'malignant', 'malignant', 'malignant', 'malignant', 'malignant',\n",
       "       'malignant', 'malignant', 'malignant', 'malignant', 'malignant',\n",
       "       'malignant', 'malignant', 'benign', 'malignant', 'malignant',\n",
       "       'malignant', 'malignant', 'malignant', 'malignant', 'malignant',\n",
       "       'malignant', 'benign', 'malignant', 'benign', 'benign', 'benign',\n",
       "       'benign', 'benign', 'malignant', 'malignant', 'benign',\n",
       "       'malignant', 'malignant', 'benign', 'benign', 'benign', 'benign',\n",
       "       'malignant', 'benign', 'malignant', 'malignant', 'benign',\n",
       "       'benign', 'benign', 'benign', 'malignant', 'benign', 'malignant',\n",
       "       'malignant', 'benign', 'malignant', 'benign', 'malignant',\n",
       "       'malignant', 'benign', 'benign', 'benign', 'malignant',\n",
       "       'malignant', 'benign', 'malignant', 'malignant', 'malignant',\n",
       "       'benign', 'benign', 'benign', 'malignant', 'benign', 'benign',\n",
       "       'malignant', 'malignant', 'benign', 'benign', 'benign',\n",
       "       'malignant', 'malignant', 'benign', 'benign', 'benign', 'benign',\n",
       "       'malignant', 'benign', 'benign', 'malignant', 'benign', 'benign',\n",
       "       'benign', 'benign', 'benign', 'benign', 'benign', 'benign',\n",
       "       'malignant', 'malignant', 'malignant', 'benign', 'malignant',\n",
       "       'malignant', 'benign', 'benign', 'benign', 'malignant',\n",
       "       'malignant', 'benign', 'malignant', 'benign', 'malignant',\n",
       "       'malignant', 'benign', 'malignant', 'malignant', 'benign',\n",
       "       'benign', 'malignant', 'benign', 'benign', 'malignant', 'benign',\n",
       "       'benign', 'benign', 'benign', 'malignant', 'benign', 'benign',\n",
       "       'benign', 'benign', 'benign', 'benign', 'benign', 'benign',\n",
       "       'benign', 'malignant', 'benign', 'benign', 'benign', 'benign',\n",
       "       'malignant', 'malignant', 'benign', 'malignant', 'benign',\n",
       "       'benign', 'malignant', 'malignant', 'benign', 'benign',\n",
       "       'malignant', 'malignant', 'benign', 'benign', 'benign', 'benign',\n",
       "       'malignant', 'benign', 'benign', 'malignant', 'malignant',\n",
       "       'malignant', 'benign', 'malignant', 'benign', 'malignant',\n",
       "       'benign', 'benign', 'benign', 'malignant', 'benign', 'benign',\n",
       "       'malignant', 'malignant', 'benign', 'malignant', 'malignant',\n",
       "       'malignant', 'malignant', 'benign', 'malignant', 'malignant',\n",
       "       'malignant', 'benign', 'malignant', 'benign', 'malignant',\n",
       "       'benign', 'benign', 'malignant', 'benign', 'malignant',\n",
       "       'malignant', 'malignant', 'malignant', 'benign', 'benign',\n",
       "       'malignant', 'malignant', 'benign', 'benign', 'benign',\n",
       "       'malignant', 'benign', 'benign', 'benign', 'benign', 'benign',\n",
       "       'malignant', 'malignant', 'benign', 'benign', 'malignant',\n",
       "       'benign', 'benign', 'malignant', 'malignant', 'benign',\n",
       "       'malignant', 'benign', 'benign', 'benign', 'benign', 'malignant',\n",
       "       'benign', 'benign', 'benign', 'benign', 'benign', 'malignant',\n",
       "       'benign', 'malignant', 'malignant', 'malignant', 'malignant',\n",
       "       'malignant', 'malignant', 'malignant', 'malignant', 'malignant',\n",
       "       'malignant', 'malignant', 'malignant', 'malignant', 'malignant',\n",
       "       'benign', 'benign', 'benign', 'benign', 'benign', 'benign',\n",
       "       'malignant', 'benign', 'malignant', 'benign', 'benign',\n",
       "       'malignant', 'benign', 'benign', 'malignant', 'benign',\n",
       "       'malignant', 'malignant', 'benign', 'benign', 'benign', 'benign',\n",
       "       'benign', 'benign', 'benign', 'benign', 'benign', 'benign',\n",
       "       'benign', 'benign', 'benign', 'malignant', 'benign', 'benign',\n",
       "       'malignant', 'benign', 'malignant', 'benign', 'benign', 'benign',\n",
       "       'benign', 'benign', 'benign', 'benign', 'benign', 'benign',\n",
       "       'benign', 'benign', 'benign', 'benign', 'benign', 'malignant',\n",
       "       'benign', 'benign', 'benign', 'malignant', 'benign', 'malignant',\n",
       "       'benign', 'benign', 'benign', 'benign', 'malignant', 'malignant',\n",
       "       'malignant', 'benign', 'benign', 'benign', 'benign', 'malignant',\n",
       "       'benign', 'malignant', 'benign', 'malignant', 'benign', 'benign',\n",
       "       'benign', 'malignant', 'benign', 'benign', 'benign', 'benign',\n",
       "       'benign', 'benign', 'benign', 'malignant', 'malignant',\n",
       "       'malignant', 'benign', 'benign', 'benign', 'benign', 'benign',\n",
       "       'benign', 'benign', 'benign', 'benign', 'benign', 'benign',\n",
       "       'malignant', 'malignant', 'benign', 'malignant', 'malignant',\n",
       "       'malignant', 'benign', 'malignant', 'malignant', 'benign',\n",
       "       'benign', 'benign', 'benign', 'benign', 'malignant', 'benign',\n",
       "       'benign', 'benign', 'benign', 'benign', 'malignant', 'benign',\n",
       "       'benign', 'benign', 'malignant', 'benign', 'benign', 'malignant',\n",
       "       'malignant', 'benign', 'benign', 'benign', 'benign', 'benign',\n",
       "       'benign', 'malignant', 'benign', 'benign', 'benign', 'benign',\n",
       "       'benign', 'benign', 'benign', 'malignant', 'benign', 'benign',\n",
       "       'benign', 'benign', 'benign', 'malignant', 'benign', 'benign',\n",
       "       'malignant', 'benign', 'benign', 'benign', 'benign', 'benign',\n",
       "       'benign', 'benign', 'benign', 'benign', 'benign', 'benign',\n",
       "       'benign', 'malignant', 'benign', 'malignant', 'malignant',\n",
       "       'benign', 'malignant', 'benign', 'benign', 'benign', 'benign',\n",
       "       'benign', 'malignant', 'benign', 'benign', 'malignant', 'benign',\n",
       "       'malignant', 'benign', 'benign', 'malignant', 'benign',\n",
       "       'malignant', 'benign', 'benign', 'benign', 'benign', 'benign',\n",
       "       'benign', 'benign', 'benign', 'malignant', 'malignant', 'benign',\n",
       "       'benign', 'benign', 'benign', 'benign', 'benign', 'malignant',\n",
       "       'benign', 'benign', 'benign', 'benign', 'benign', 'benign',\n",
       "       'benign', 'benign', 'benign', 'benign', 'malignant', 'benign',\n",
       "       'benign', 'benign', 'benign', 'benign', 'benign', 'benign',\n",
       "       'malignant', 'benign', 'malignant', 'benign', 'benign',\n",
       "       'malignant', 'benign', 'benign', 'benign', 'benign', 'benign',\n",
       "       'malignant', 'malignant', 'benign', 'malignant', 'benign',\n",
       "       'malignant', 'benign', 'benign', 'benign', 'benign', 'benign',\n",
       "       'malignant', 'benign', 'benign', 'malignant', 'benign',\n",
       "       'malignant', 'benign', 'malignant', 'malignant', 'benign',\n",
       "       'benign', 'benign', 'malignant', 'benign', 'benign', 'benign',\n",
       "       'benign', 'benign', 'benign', 'benign', 'benign', 'benign',\n",
       "       'benign', 'benign', 'malignant', 'benign', 'malignant',\n",
       "       'malignant', 'benign', 'benign', 'benign', 'benign', 'benign',\n",
       "       'benign', 'benign', 'benign', 'benign', 'benign', 'benign',\n",
       "       'benign', 'benign', 'benign', 'benign', 'benign', 'benign',\n",
       "       'benign', 'benign', 'benign', 'benign', 'benign', 'benign',\n",
       "       'benign', 'benign', 'malignant', 'malignant', 'malignant',\n",
       "       'malignant', 'malignant', 'malignant', 'benign'], dtype='<U9')"
      ]
     },
     "execution_count": 4,
     "metadata": {},
     "output_type": "execute_result"
    }
   ],
   "source": [
    "target_names = breast_cancer.target_names\n",
    "labels = target_names[target]\n",
    "labels"
   ]
  },
  {
   "cell_type": "code",
   "execution_count": 5,
   "metadata": {},
   "outputs": [
    {
     "data": {
      "text/plain": [
       "<matplotlib.collections.PathCollection at 0x1b7526be3f0>"
      ]
     },
     "execution_count": 5,
     "metadata": {},
     "output_type": "execute_result"
    },
    {
     "data": {
      "image/png": "[encoded data removed]",
      "text/plain": [
       "<Figure size 640x480 with 1 Axes>"
      ]
     },
     "metadata": {},
     "output_type": "display_data"
    }
   ],
   "source": [
    "benign_mean_radius = features[labels=='benign', 0]\n",
    "benign_mean_texture = features[labels=='benign', 1]\n",
    "benign = np.c_[benign_mean_radius, benign_mean_texture]\n",
    "\n",
    "malignant_mean_radius = features[labels=='malignant', 0]\n",
    "malignant_mean_texture = features[labels=='malignant', 1]\n",
    "malignant = np.c_[malignant_mean_radius, malignant_mean_texture]\n",
    "\n",
    "# print(benign)\n",
    "plt.scatter(benign[:, 0], benign[:, 1], color = 'red')\n",
    "plt.scatter(malignant[:, 0], malignant[:, 1], color = 'blue')"
   ]
  },
  {
   "cell_type": "code",
   "execution_count": 6,
   "metadata": {},
   "outputs": [],
   "source": [
    "training_data=np.r_[benign, malignant]\n",
    "training_labels = np.r_[np.zeros(len(benign)), np.ones(len(malignant))]"
   ]
  },
  {
   "cell_type": "code",
   "execution_count": null,
   "metadata": {},
   "outputs": [],
   "source": []
  },
  {
   "cell_type": "markdown",
   "metadata": {},
   "source": [
    "## Step2. 區分訓練集與測試集"
   ]
  },
  {
   "cell_type": "code",
   "execution_count": 7,
   "metadata": {},
   "outputs": [],
   "source": [
    "X = breast_cancer.data\n",
    "y = breast_cancer.target\n",
    "\n",
    "X_train, X_test, y_train, y_test = train_test_split(X, y, test_size=0.3, random_state=0)"
   ]
  },
  {
   "cell_type": "code",
   "execution_count": 8,
   "metadata": {},
   "outputs": [],
   "source": [
    "from sklearn.preprocessing import StandardScaler\n",
    "sc = StandardScaler().fit(X_train)\n",
    "X_train_std = sc.transform(X_train)\n",
    "sc = StandardScaler().fit(X_test)\n",
    "X_test_std = sc.transform(X_test)"
   ]
  },
  {
   "cell_type": "markdown",
   "metadata": {},
   "source": [
    "## Step3. 建模"
   ]
  },
  {
   "cell_type": "code",
   "execution_count": 14,
   "metadata": {},
   "outputs": [
    {
     "data": {
      "image/png": "[encoded data removed]",
      "text/plain": [
       "<Figure size 640x480 with 1 Axes>"
      ]
     },
     "metadata": {},
     "output_type": "display_data"
    }
   ],
   "source": [
    "clf = svm.SVC(kernel='poly', gamma='auto', C=100)\n",
    "clf.fit(training_data,training_labels)\n",
    "\n",
    "training_x_min=training_data[:,0].min()-1\n",
    "training_x_max=training_data[:,0].max()+1\n",
    "training_y_min=training_data[:,1].min()-1\n",
    "training_y_max=training_data[:,1].max()+1\n",
    "grid_interval=0.02\n",
    "xx,yy=np.meshgrid(np.arange(training_x_min,training_x_max,grid_interval),np.arange(training_y_min,training_y_max,grid_interval))\n",
    "\n",
    "Z=clf.predict(np.c_[xx.ravel(),yy.ravel()])\n",
    "Z=Z.reshape(xx.shape)\n",
    "\n",
    "plt.contourf(xx,yy,Z,cmap=plt.cm.bone,alpha=0.2)\n",
    "plt.autoscale()\n",
    "plt.grid()\n",
    "plt.scatter(benign[:,0],benign[:,1],color='red')\n",
    "plt.scatter(malignant[:,0],malignant[:,1],color='blue')\n",
    "plt.show()"
   ]
  },
  {
   "cell_type": "markdown",
   "metadata": {},
   "source": [
    "## Step4. 預測\n",
    "\n",
    "```\n",
    "\n",
    "```\n"
   ]
  },
  {
   "cell_type": "code",
   "execution_count": 15,
   "metadata": {},
   "outputs": [
    {
     "data": {
      "text/plain": [
       "array([1, 1, 1, 1, 1, 1, 1, 1, 1, 1, 1, 1, 1, 0, 1, 1, 1, 0, 0, 0, 1, 0,\n",
       "       1, 1, 0, 1, 1, 1, 1, 0, 1, 0, 1, 0, 1, 1, 1, 0, 1, 0, 0, 1, 0, 1,\n",
       "       1, 0, 1, 1, 1, 0, 0, 1, 0, 1, 1, 1, 1, 1, 1, 0, 1, 0, 1, 1, 0, 1,\n",
       "       0, 0, 0, 1, 1, 0, 1, 1, 0, 1, 1, 1, 1, 1, 0, 0, 0, 1, 1, 1, 1, 1,\n",
       "       0, 0, 1, 1, 1, 0, 1, 1, 1, 1, 1, 1, 1, 1, 1, 1, 0, 1, 0, 1, 1, 0,\n",
       "       1, 0, 0, 1, 1, 1, 1, 1, 1, 1, 1, 1, 1, 1, 0, 1, 1, 1, 1, 1, 0, 1,\n",
       "       1, 1, 1, 1, 0, 1, 0, 1, 1, 1, 0, 1, 1, 0, 1, 0, 1, 1, 1, 1, 1, 1,\n",
       "       1, 1, 1, 1, 1, 1, 0, 1, 1, 0, 1, 0, 1, 0, 1, 1, 1])"
      ]
     },
     "execution_count": 15,
     "metadata": {},
     "output_type": "execute_result"
    }
   ],
   "source": [
    "X_train_2d = X_train_std[:, :2] \n",
    "X_test_2d = X_test_std[:, :2]\n",
    "\n",
    "# clf=svm.SVC(kernel='poly',gamma='auto',C=100)\n",
    "clf.fit(X_train_2d,y_train)\n",
    "clf.predict(X_test_2d)"
   ]
  },
  {
   "cell_type": "markdown",
   "metadata": {},
   "source": [
    "## Step5. 準確度分析"
   ]
  },
  {
   "cell_type": "code",
   "execution_count": 16,
   "metadata": {},
   "outputs": [
    {
     "name": "stdout",
     "output_type": "stream",
     "text": [
      "0.8693467336683417\n",
      "0.8830409356725146\n"
     ]
    }
   ],
   "source": [
    "print(clf.score(X_train_2d,y_train))\n",
    "print(clf.score(X_test_2d, y_test))"
   ]
  },
  {
   "cell_type": "code",
   "execution_count": null,
   "metadata": {},
   "outputs": [],
   "source": []
  }
 ],
 "metadata": {
  "kernelspec": {
   "display_name": "env",
   "language": "python",
   "name": "python3"
  },
  "language_info": {
   "codemirror_mode": {
    "name": "ipython",
    "version": 3
   },
   "file_extension": ".py",
   "mimetype": "text/x-python",
   "name": "python",
   "nbconvert_exporter": "python",
   "pygments_lexer": "ipython3",
   "version": "3.12.4"
  }
 },
 "nbformat": 4,
 "nbformat_minor": 2
}
